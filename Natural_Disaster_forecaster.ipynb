{
  "cells": [
    {
      "source": [
        "\n",
        "# IMPORTANT: RUN THIS CELL IN ORDER TO IMPORT YOUR KAGGLE DATA SOURCES\n",
        "# TO THE CORRECT LOCATION (/kaggle/input) IN YOUR NOTEBOOK,\n",
        "# THEN FEEL FREE TO DELETE THIS CELL.\n",
        "# NOTE: THIS NOTEBOOK ENVIRONMENT DIFFERS FROM KAGGLE'S PYTHON\n",
        "# ENVIRONMENT SO THERE MAY BE MISSING LIBRARIES USED BY YOUR\n",
        "# NOTEBOOK.\n",
        "\n",
        "import os\n",
        "import sys\n",
        "from tempfile import NamedTemporaryFile\n",
        "from urllib.request import urlopen\n",
        "from urllib.parse import unquote, urlparse\n",
        "from urllib.error import HTTPError\n",
        "from zipfile import ZipFile\n",
        "import tarfile\n",
        "import shutil\n",
        "\n",
        "CHUNK_SIZE = 40960\n",
        "DATA_SOURCE_MAPPING = 'climate-change-earth-surface-temperature-data:https%3A%2F%2Fstorage.googleapis.com%2Fkaggle-data-sets%2F29%2F2150%2Fbundle%2Farchive.zip%3FX-Goog-Algorithm%3DGOOG4-RSA-SHA256%26X-Goog-Credential%3Dgcp-kaggle-com%2540kaggle-161607.iam.gserviceaccount.com%252F20240217%252Fauto%252Fstorage%252Fgoog4_request%26X-Goog-Date%3D20240217T052517Z%26X-Goog-Expires%3D259200%26X-Goog-SignedHeaders%3Dhost%26X-Goog-Signature%3D6f6b931df621366177b7214efe22eaea0f265d6c137625049edce27ddeb7915ed264eab4c6b883ec9a332f1dcc4eb3844b6886e7ab659b2efe8647168a9264931fbd09ecad574fd38827c3a949c33323386d3da18428d98c080fb1876f4ce665351463e40d68ce7ac278868bdb60912e8ffa5ac1186e165085f0e3ed020b97f08cd4bfcf4753c8117f8c72ca79229b032eefe139b20d39d0e18ae5111a90a2ea69e64767e926a826f74c80b6862308243317591cecda1f2cc7b9026c6c094981702ad85eaf983b8eacb0ba85c7b90a6a4ebaa95aea4166d6c9b1b8d9c84466a07320ce765cca98289affeed67b2f05afe08152413cb1767f4b4c59be1aefb6b5,natural-disaster-data:https%3A%2F%2Fstorage.googleapis.com%2Fkaggle-data-sets%2F166985%2F380029%2Fbundle%2Farchive.zip%3FX-Goog-Algorithm%3DGOOG4-RSA-SHA256%26X-Goog-Credential%3Dgcp-kaggle-com%2540kaggle-161607.iam.gserviceaccount.com%252F20240217%252Fauto%252Fstorage%252Fgoog4_request%26X-Goog-Date%3D20240217T052517Z%26X-Goog-Expires%3D259200%26X-Goog-SignedHeaders%3Dhost%26X-Goog-Signature%3D397884291f55294802152aeee97b922d87c2cd031ed77bb9dc77beb7adbb2ca305f455e7dbaeb1851cff36c4a4b056e95f3ea7ad67276dbbc62535e8f76ba9eba811edd534b2b9e736f29e4e5cc6809fc2ac0a6de196021b53e7ba98f9431b473f9f02b08361a8fb8814cc0eccfe5d3f6b2d2f0563736dee93843fc498875c80626dcb8eb7df62cc482adbd5ab926f09f9e501062da6876db434cbbc4307f9b784a8c443b43a43b0c00e7664ac53afb93aa980908c7d6181a407eeb894d43e40c12020e74eb399e87b6cd17571d8f3772e1b404dab031d1c01f176441da95d26c196969edef7ecdabf1e558eae4e87d751ace47250110f5f152a08a04c08cd0c'\n",
        "\n",
        "KAGGLE_INPUT_PATH='/kaggle/input'\n",
        "KAGGLE_WORKING_PATH='/kaggle/working'\n",
        "KAGGLE_SYMLINK='kaggle'\n",
        "\n",
        "!umount /kaggle/input/ 2> /dev/null\n",
        "shutil.rmtree('/kaggle/input', ignore_errors=True)\n",
        "os.makedirs(KAGGLE_INPUT_PATH, 0o777, exist_ok=True)\n",
        "os.makedirs(KAGGLE_WORKING_PATH, 0o777, exist_ok=True)\n",
        "\n",
        "try:\n",
        "  os.symlink(KAGGLE_INPUT_PATH, os.path.join(\"..\", 'input'), target_is_directory=True)\n",
        "except FileExistsError:\n",
        "  pass\n",
        "try:\n",
        "  os.symlink(KAGGLE_WORKING_PATH, os.path.join(\"..\", 'working'), target_is_directory=True)\n",
        "except FileExistsError:\n",
        "  pass\n",
        "\n",
        "for data_source_mapping in DATA_SOURCE_MAPPING.split(','):\n",
        "    directory, download_url_encoded = data_source_mapping.split(':')\n",
        "    download_url = unquote(download_url_encoded)\n",
        "    filename = urlparse(download_url).path\n",
        "    destination_path = os.path.join(KAGGLE_INPUT_PATH, directory)\n",
        "    try:\n",
        "        with urlopen(download_url) as fileres, NamedTemporaryFile() as tfile:\n",
        "            total_length = fileres.headers['content-length']\n",
        "            print(f'Downloading {directory}, {total_length} bytes compressed')\n",
        "            dl = 0\n",
        "            data = fileres.read(CHUNK_SIZE)\n",
        "            while len(data) > 0:\n",
        "                dl += len(data)\n",
        "                tfile.write(data)\n",
        "                done = int(50 * dl / int(total_length))\n",
        "                sys.stdout.write(f\"\\r[{'=' * done}{' ' * (50-done)}] {dl} bytes downloaded\")\n",
        "                sys.stdout.flush()\n",
        "                data = fileres.read(CHUNK_SIZE)\n",
        "            if filename.endswith('.zip'):\n",
        "              with ZipFile(tfile) as zfile:\n",
        "                zfile.extractall(destination_path)\n",
        "            else:\n",
        "              with tarfile.open(tfile.name) as tarfile:\n",
        "                tarfile.extractall(destination_path)\n",
        "            print(f'\\nDownloaded and uncompressed: {directory}')\n",
        "    except HTTPError as e:\n",
        "        print(f'Failed to load (likely expired) {download_url} to path {destination_path}')\n",
        "        continue\n",
        "    except OSError as e:\n",
        "        print(f'Failed to load {download_url} to path {destination_path}')\n",
        "        continue\n",
        "\n",
        "print('Data source import complete.')\n"
      ],
      "metadata": {
        "id": "XSJXtT5OQe82"
      },
      "cell_type": "code",
      "outputs": [],
      "execution_count": null
    },
    {
      "metadata": {
        "id": "gg419Us9Qe8-"
      },
      "cell_type": "markdown",
      "source": [
        "# An exploratory data analysis of climate change and natural disasters\n",
        "\n",
        "The objective is to explore and analyse climate change and its relation to natural disasters (occurrence and economic impact). For this analysis, global temperature rise is used as an indicator of climate change.<br><br>The source of the global temperature data is the Kaggle dataset https://www.kaggle.com/berkeleyearth/climate-change-earth-surface-temperature-data by Berkeley Earth.<br>Natural diasaster data is taken from https://ourworldindata.org/natural-disasters (data published by EMDAT (2019): OFDA/CRED International Disaster Database, Université catholique de Louvain – Brussels – Belgium)"
      ]
    },
    {
      "metadata": {
        "trusted": false,
        "id": "PsGKVHlQQe9C"
      },
      "cell_type": "code",
      "source": [
        "# Import the required libraries\n",
        "import pandas as pd\n",
        "import numpy as np\n",
        "import matplotlib.pyplot as plt\n",
        "\n",
        "from matplotlib import style\n",
        "style.use('seaborn')\n",
        "%matplotlib inline"
      ],
      "execution_count": null,
      "outputs": []
    },
    {
      "metadata": {
        "id": "iAqVYsLkQe9D"
      },
      "cell_type": "markdown",
      "source": [
        "## Global temperature"
      ]
    },
    {
      "metadata": {
        "trusted": false,
        "id": "Cm6-KqvzQe9D"
      },
      "cell_type": "code",
      "source": [
        "# Load the global temperature dataset and store it in a dataframe\n",
        "orig_temp_data = pd.read_csv('../input/climate-change-earth-surface-temperature-data/GlobalTemperatures.csv')\n",
        "global_temp_df = orig_temp_data.copy()\n",
        "\n",
        "global_temp_df.head()"
      ],
      "execution_count": null,
      "outputs": []
    },
    {
      "metadata": {
        "id": "tBucLl_8Qe9D"
      },
      "cell_type": "markdown",
      "source": [
        "After observing the data, remove the data not required for the analysis and keep only the relevant data. The column 'LandAndOceanAverageTemperature' gives information about the overall earth temperature.<br><br>The global temperature dataset has monthly granularity. It can be resampled annually to reduce the number of entries, without losing the average temperature information."
      ]
    },
    {
      "metadata": {
        "trusted": false,
        "id": "I1948frgQe9E"
      },
      "cell_type": "code",
      "source": [
        "# Choose the required columns\n",
        "global_temp_df = global_temp_df[['dt', 'LandAndOceanAverageTemperature']]\n",
        "\n",
        "# Set the date column as a DateTimeIndex and sort it\n",
        "global_temp_df['dt'] = pd.to_datetime(global_temp_df['dt'])\n",
        "global_temp_df.set_index('dt', inplace = True)\n",
        "global_temp_df.sort_index(axis = 0, inplace = True)\n",
        "\n",
        "# Resample annually and rename index & columns\n",
        "global_temp_df = global_temp_df.resample('A').mean()\n",
        "global_temp_df.rename(columns = {'LandAndOceanAverageTemperature': 'AnnualAverageTemp'}, inplace = True)\n",
        "global_temp_df.index.rename('Year', inplace = True)\n",
        "global_temp_df.index = global_temp_df.index.year"
      ],
      "execution_count": null,
      "outputs": []
    },
    {
      "metadata": {
        "trusted": false,
        "id": "DJE5bfg-Qe9F"
      },
      "cell_type": "code",
      "source": [
        "# Check the number of missing values and the corresponding years\n",
        "print(global_temp_df.isnull().sum())\n",
        "print(global_temp_df[global_temp_df['AnnualAverageTemp'].isnull()].index)"
      ],
      "execution_count": null,
      "outputs": []
    },
    {
      "metadata": {
        "id": "oFaOUmLrQe9F"
      },
      "cell_type": "markdown",
      "source": [
        "The first hundred years from 1750 don't have temperature values. Drop those entries to begin the analysis from 1850 onwards."
      ]
    },
    {
      "metadata": {
        "trusted": false,
        "id": "zHDZfIdpQe9G"
      },
      "cell_type": "code",
      "source": [
        "global_temp_df.dropna(inplace = True)"
      ],
      "execution_count": null,
      "outputs": []
    },
    {
      "metadata": {
        "id": "n4it74MLQe9G"
      },
      "cell_type": "markdown",
      "source": [
        "In climate science, temperature anomaly represents temperature pattern accurately than absolute temperature. It is a measure of the departure from baseline temperature. Basically, it indicates how much warmer or cooler it is than the baseline. The baseline used here is the average temperature over the 30 year period 1951-1980 (base period used by NASA).<br><br>The temperature anomaly values are stored in a new column in the dataframe and the absolute temperature values are dropped."
      ]
    },
    {
      "metadata": {
        "trusted": false,
        "id": "EZyvEBbiQe9G"
      },
      "cell_type": "code",
      "source": [
        "# Calculate the global baseline temperature\n",
        "global_ref_temp = global_temp_df.loc['1951':'1980'].mean()['AnnualAverageTemp']\n",
        "\n",
        "# Create the temperature anomaly column\n",
        "global_temp_df['Temperature Anomaly'] = global_temp_df['AnnualAverageTemp'] - global_ref_temp\n",
        "global_temp_df.drop(['AnnualAverageTemp'], axis = 1, inplace = True)\n",
        "\n",
        "global_temp_df.head()"
      ],
      "execution_count": null,
      "outputs": []
    },
    {
      "metadata": {
        "trusted": false,
        "id": "G5BxsEWBQe9H"
      },
      "cell_type": "code",
      "source": [
        "# Plot the temperature anomaly\n",
        "plt.figure(figsize = (15, 8))\n",
        "\n",
        "plt.plot(global_temp_df['Temperature Anomaly'], 'r')\n",
        "\n",
        "plt.title('The Warming Earth\\nGlobal temperature anomalies (annual) for 1850-2015', fontsize = 19)\n",
        "plt.xlabel('Year', fontsize = 15)\n",
        "plt.ylabel('Temperature anomaly (degree Celsius)', fontsize = 15)\n",
        "\n",
        "plt.show()"
      ],
      "execution_count": null,
      "outputs": []
    },
    {
      "metadata": {
        "id": "UJJy78RuQe9H"
      },
      "cell_type": "markdown",
      "source": [
        "Plotting the temperature anomaly over the years, clearly indicates the warming of Earth. The warming is more pronounced from about 1920 onwards. In 2015, the Earth is 0.76 degree Celsius warmer than the normal. The result above confirms the scientific consensus that the Earth is warming."
      ]
    },
    {
      "metadata": {
        "id": "hf-RkorFQe9H"
      },
      "cell_type": "markdown",
      "source": [
        "## Natural disasters"
      ]
    },
    {
      "metadata": {
        "id": "tVYbUaMSQe9I"
      },
      "cell_type": "markdown",
      "source": [
        "Let's explore the natural disaster data and analyse how the occurrence of various types of natural disasters has changed over the years."
      ]
    },
    {
      "metadata": {
        "trusted": false,
        "id": "WHU-tX7JQe9I"
      },
      "cell_type": "code",
      "source": [
        "# Load the natural disaster dataset and store it in a dataframe\n",
        "orig_disaster_data = pd.read_csv('../input/natural-disaster-data/number-of-natural-disaster-events.csv')\n",
        "nat_disaster_df = orig_disaster_data.copy()\n",
        "\n",
        "nat_disaster_df.head()"
      ],
      "execution_count": null,
      "outputs": []
    },
    {
      "metadata": {
        "trusted": false,
        "id": "nDnqXguYQe9J"
      },
      "cell_type": "code",
      "source": [
        "# Remove the 'Code' column\n",
        "nat_disaster_df.drop(['Code'], axis = 1, inplace = True)\n",
        "\n",
        "# Check the different types of 'Entity' values\n",
        "nat_disaster_df['Entity'].unique()"
      ],
      "execution_count": null,
      "outputs": []
    },
    {
      "metadata": {
        "id": "uyoztBPmQe9J"
      },
      "cell_type": "markdown",
      "source": [
        "The 'Entity' column contains 10 types of natural disaster entries and their summation, 'All natural disasters'. For further analysis it is suitable to rearrange the data according to the disaster categories."
      ]
    },
    {
      "metadata": {
        "trusted": false,
        "id": "_h_-f0EDQe9J"
      },
      "cell_type": "code",
      "source": [
        "# Pivot the dataframe\n",
        "nat_disaster_df = nat_disaster_df.pivot(index = 'Year', columns = 'Entity', values = 'Number of reported natural disasters (reported disasters)')\n",
        "nat_disaster_df.head()"
      ],
      "execution_count": null,
      "outputs": []
    },
    {
      "metadata": {
        "id": "xz0MlZQ0Qe9K"
      },
      "cell_type": "markdown",
      "source": [
        "Global warming doesn't affect the probability of impact by asteroids, meteroites, etc. on Earth. So, the 'Impact' entity can be removed from the dataframe.<br><br>There are several 'NaN' values which could mean missing values or unreported disaster occurrences. For our analysis, we'll replace them with 0, which means no disaster occurrence and it would also benefit plotting the data."
      ]
    },
    {
      "metadata": {
        "trusted": false,
        "id": "R5LahUdOQe9K"
      },
      "cell_type": "code",
      "source": [
        "# Remove the 'Impact' column\n",
        "nat_disaster_df.drop(['Impact'], axis = 1, inplace = True)\n",
        "\n",
        "# Handle missing values and rename columns\n",
        "nat_disaster_df.fillna(value = 0, inplace = True)\n",
        "nat_disaster_df = nat_disaster_df.add_suffix(' (Occurrence)')\n",
        "\n",
        "nat_disaster_df.head()"
      ],
      "execution_count": null,
      "outputs": []
    },
    {
      "metadata": {
        "trusted": false,
        "id": "XL_j4RwEQe9K"
      },
      "cell_type": "code",
      "source": [
        "# Plot the types of natural disasters occurrences for 1950-2018\n",
        "colors = ['#4169e1', '#b22222', '#228b22', '#ff4500', '#9370db', '#8b4513', '#c71585', '#ffd700', 'olive']\n",
        "\n",
        "nat_disaster_df.drop(['All natural disasters (Occurrence)'], axis = 1).loc[1950:].plot.bar(width = 0.8, stacked = True, color = colors, figsize = (15, 8))\n",
        "\n",
        "plt.title('Global occurrences of natural disasters for 1950-2018', fontsize = 19)\n",
        "plt.xlabel('Year', fontsize = 15)\n",
        "plt.ylabel('Occurrence', fontsize = 15)\n",
        "plt.legend(loc = 2, prop = {'size': 12})\n",
        "\n",
        "plt.show()"
      ],
      "execution_count": null,
      "outputs": []
    },
    {
      "metadata": {
        "id": "Xv0i4CEKQe9K"
      },
      "cell_type": "markdown",
      "source": [
        "The bar plot above with individual stacks for each disaster category shows that the occurrence of floods has significantly increased over the years relative to other disasters. The next highest increase in occurrence is that of extreme weather followed by earthquakes. The plot also shows that there has been a steady increase in the number of total natural disasters globally. This is more evident from the plot below."
      ]
    },
    {
      "metadata": {
        "trusted": false,
        "id": "a61sbbGOQe9K"
      },
      "cell_type": "code",
      "source": [
        "# Plot all natural disasters occurrences and temperature anomaly for comparison\n",
        "fig, ax = plt.subplots(figsize = (14, 8))\n",
        "ax2 = ax.twinx()\n",
        "\n",
        "line1 = ax.plot(nat_disaster_df.loc[:2015, 'All natural disasters (Occurrence)'], '-ro', markersize = 4, label = 'All natural disasters (Occurrence)')\n",
        "line2 = ax2.plot(global_temp_df.loc[1900:, 'Temperature Anomaly'], 'b-', label = 'Temperature Anomaly')\n",
        "\n",
        "lines = line1 + line2\n",
        "labels = [l.get_label() for l in lines]\n",
        "\n",
        "plt.title('All natural disaster occurrences and temperature anomaly for 1900-2015', fontsize = 19)\n",
        "ax.set_xlabel('Year', fontsize = 15)\n",
        "ax.set_ylabel('Occurrence', fontsize = 15, color = 'r')\n",
        "ax2.set_ylabel('Temperature anomaly (degree Celsius)', fontsize = 15, color = 'b')\n",
        "ax.legend(lines, labels, loc = 0, prop = {'size': 12})\n",
        "\n",
        "plt.show()"
      ],
      "execution_count": null,
      "outputs": []
    },
    {
      "metadata": {
        "id": "xiB267SgQe9L"
      },
      "cell_type": "markdown",
      "source": [
        "The above plot indicates a positive correlation between temperature anomaly and the occurrence of natural disasters. Especially after around 1940 when it starts becoming warmer than the normal, natural disasters also start rising globally.<br><br>Let's also investigate the economic damage caused by natural disasters."
      ]
    },
    {
      "metadata": {
        "trusted": false,
        "id": "blL4fmnmQe9L"
      },
      "cell_type": "code",
      "source": [
        "# Load the economic damage dataset and store it in a dataframe\n",
        "orig_econ_data = pd.read_csv('../input/natural-disaster-data/economic-damage-from-natural-disasters.csv')\n",
        "econ_dmg_df = orig_econ_data.copy()\n",
        "\n",
        "econ_dmg_df.head()"
      ],
      "execution_count": null,
      "outputs": []
    },
    {
      "metadata": {
        "trusted": false,
        "id": "M8pOCwF7Qe9L"
      },
      "cell_type": "code",
      "source": [
        "# Remove the 'Code' column\n",
        "econ_dmg_df.drop(['Code'], axis = 1, inplace = True)\n",
        "\n",
        "# Pivot the dataframe\n",
        "econ_dmg_df = econ_dmg_df.pivot(index = 'Year', columns = 'Entity', values = 'Total economic damage from natural disasters (US$)')\n",
        "econ_dmg_df.head()"
      ],
      "execution_count": null,
      "outputs": []
    },
    {
      "metadata": {
        "id": "wuUro7WcQe9L"
      },
      "cell_type": "markdown",
      "source": [
        "Remove the irrelevant columns, rename the other columns and handle the missing values."
      ]
    },
    {
      "metadata": {
        "trusted": false,
        "id": "aWeFNrTDQe9L"
      },
      "cell_type": "code",
      "source": [
        "econ_dmg_df.drop(['Impact'], axis = 1, inplace = True)\n",
        "\n",
        "econ_dmg_df.fillna(value = 0, inplace = True)\n",
        "econ_dmg_df = econ_dmg_df.add_suffix(' (Economic Damage)')\n",
        "\n",
        "econ_dmg_df.head()"
      ],
      "execution_count": null,
      "outputs": []
    },
    {
      "metadata": {
        "trusted": false,
        "id": "IkbzfEZuQe9M"
      },
      "cell_type": "code",
      "source": [
        "# Plot the economic damage categorised by the type of natural disasters for 1950-2018\n",
        "((econ_dmg_df.drop(['All natural disasters (Economic Damage)'], axis = 1).loc[1950:]) / 1e9).plot.bar(width = 0.8, stacked = True, color = colors, figsize = (15, 8))\n",
        "\n",
        "plt.title('Economic damage by type of natural disaster for 1950-2018', fontsize = 19)\n",
        "plt.xlabel('Year', fontsize = 15)\n",
        "plt.ylabel('Economic damage (in billion US$)', fontsize = 15)\n",
        "plt.legend(loc = 2, prop = {'size': 12})\n",
        "\n",
        "plt.show()"
      ],
      "execution_count": null,
      "outputs": []
    },
    {
      "metadata": {
        "id": "5UZDd5hZQe9M"
      },
      "cell_type": "markdown",
      "source": [
        "Economic damage is highly variable as it depends on several factors such as the disaster type, disaster location, severity of the disaster, disaster management efforts, etc.<br><br>However, one key trend that stands out from the plot is that the total economic damage from all the disasters is generally increasing over the years. The main reason is the increase in disaster occurrences (correlated with global temperature rise), although all disasters don't contribute equally to the economic damage. Another reason for higher economic damage could be the overall increase in economic growth which leads to more infrastructure, land use, etc.<br><br>Combine the three main dataframes (global_temp_df, nat_disaster_df and econ_dmg_df) and create a correlation table to measure the correlation between each entity."
      ]
    },
    {
      "metadata": {
        "trusted": false,
        "id": "yWOpwnwpQe9N"
      },
      "cell_type": "code",
      "source": [
        "combined_df = global_temp_df.join([nat_disaster_df, econ_dmg_df], how = 'inner')\n",
        "combined_df.head()"
      ],
      "execution_count": null,
      "outputs": []
    },
    {
      "metadata": {
        "trusted": false,
        "id": "tyzNw4GKQe9N"
      },
      "cell_type": "code",
      "source": [
        "correlation_table = combined_df.corr()\n",
        "correlation_table.head()"
      ],
      "execution_count": null,
      "outputs": []
    },
    {
      "metadata": {
        "id": "f-ZU4OuAQe9N"
      },
      "cell_type": "markdown",
      "source": [
        "A value of 1.0 implies perfect positive correlation, -1.0 implies perfect negative correlation and 0 means no correlation between the two entities. Let's see how temperature anomaly compares to everything."
      ]
    },
    {
      "metadata": {
        "trusted": false,
        "id": "EkM4bsUdQe9N"
      },
      "cell_type": "code",
      "source": [
        "# Correlation with respect to temperature anomaly\n",
        "combined_df.corr()['Temperature Anomaly']"
      ],
      "execution_count": null,
      "outputs": []
    },
    {
      "metadata": {
        "id": "v8fWtgH9Qe9N"
      },
      "cell_type": "markdown",
      "source": [
        "A better way to visualise all the information in the correlation table is through a correlation heatmap."
      ]
    },
    {
      "metadata": {
        "trusted": false,
        "id": "WjgWbed1Qe9O"
      },
      "cell_type": "code",
      "source": [
        "# Plot correlation heatmap\n",
        "fig, ax = plt.subplots(figsize = (10, 10))\n",
        "\n",
        "labels = [name for name in correlation_table.columns]\n",
        "\n",
        "cax = ax.matshow(correlation_table, cmap = 'RdYlGn')\n",
        "\n",
        "cbar = fig.colorbar(cax, shrink = 0.82)\n",
        "\n",
        "ax.set_xticks(np.arange(len(labels)))\n",
        "ax.set_yticks(np.arange(len(labels)))\n",
        "\n",
        "ax.set_xticklabels(labels, fontsize = 12, rotation = 'vertical')\n",
        "ax.set_yticklabels(labels, fontsize = 12)\n",
        "\n",
        "ax.grid(False)\n",
        "\n",
        "plt.show()"
      ],
      "execution_count": null,
      "outputs": []
    },
    {
      "metadata": {
        "id": "8bHaXBNVQe9O"
      },
      "cell_type": "markdown",
      "source": [
        "The heatmap and the correlation values confirm our analysis from the previous plots that global temperature rise has a strong positive correlation with all types of natural disaster occurrences (except mass movement (dry)) and has a relatively lower correlation with economic damage."
      ]
    }
  ],
  "metadata": {
    "kernelspec": {
      "display_name": "Python 3",
      "language": "python",
      "name": "python3"
    },
    "language_info": {
      "codemirror_mode": {
        "name": "ipython",
        "version": 3
      },
      "file_extension": ".py",
      "mimetype": "text/x-python",
      "name": "python",
      "nbconvert_exporter": "python",
      "pygments_lexer": "ipython3",
      "version": "3.7.3"
    },
    "colab": {
      "name": "EDA of climate change and natural disasters",
      "provenance": []
    }
  },
  "nbformat": 4,
  "nbformat_minor": 0
}